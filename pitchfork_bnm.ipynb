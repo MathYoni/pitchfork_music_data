{
 "cells": [
  {
   "cell_type": "markdown",
   "metadata": {},
   "source": [
    "In the next section, I'll look into ways to predict if an album was given a \"best new music\" acknowledgement."
   ]
  },
  {
   "cell_type": "code",
   "execution_count": 1,
   "metadata": {},
   "outputs": [],
   "source": [
    "import pandas as pd \n",
    "import sklearn\n",
    "import numpy as np\n",
    "import matplotlib.pyplot as plt\n",
    "import statistics \n",
    "from sklearn.linear_model import LinearRegression\n",
    "from sklearn.tree import DecisionTreeClassifier\n",
    "import re"
   ]
  },
  {
   "cell_type": "code",
   "execution_count": 2,
   "metadata": {},
   "outputs": [],
   "source": [
    "#creates X -- the array of reviews, and y -- the score associated to each review\n",
    "df_reviews = pd.read_csv(\"tree_review.csv\")\n",
    "df_reviews.drop_duplicates(subset=['reviewid'], inplace=True)\n",
    "df_reviews.dropna(inplace=True)\n",
    "\n",
    "X = np.array(df_reviews.drop([\"reviewid\", \"score\", \"genre\", \"author\", \"best_new_music\"], axis = 1))\n",
    "y = np.array(df_reviews[\"best_new_music\"])\n",
    "X_clean = np.zeros((X.shape[0], X.shape[1]))\n",
    "for i in range(X.shape[1]):\n",
    "    tracker = []\n",
    "    for j in range(X.shape[0]):\n",
    "        if X[j][i] in tracker:\n",
    "            X_clean[j][i] = tracker.index(X[j][i])\n",
    "        else:\n",
    "            X_clean[j][i] = len(tracker)\n",
    "            tracker.append(X[j][i])\n",
    "             \n",
    "X_train = X_clean[0:11000, :]\n",
    "y_train = y[0:11000]\n",
    "\n",
    "X_test = X_clean[11000:X.shape[0], :]\n",
    "y_test = y[11000:X.shape[0]]\n"
   ]
  },
  {
   "cell_type": "code",
   "execution_count": 3,
   "metadata": {},
   "outputs": [
    {
     "name": "stdout",
     "output_type": "stream",
     "text": [
      "0.9724789071916432\n"
     ]
    },
    {
     "data": {
      "text/plain": [
       "29"
      ]
     },
     "execution_count": 3,
     "metadata": {},
     "output_type": "execute_result"
    }
   ],
   "source": [
    "Tree = DecisionTreeClassifier().fit(X_train, y_train)\n",
    "print(Tree.score(X_test, y_test))\n",
    "Tree.get_depth()\n"
   ]
  },
  {
   "cell_type": "code",
   "execution_count": 4,
   "metadata": {},
   "outputs": [
    {
     "name": "stdout",
     "output_type": "stream",
     "text": [
      "0.9110084371233427\n"
     ]
    }
   ],
   "source": [
    "bnm = np.count_nonzero(y_train)\n",
    "prob_bnm = bnm / len(y_train)\n",
    "\n",
    "outputs = [0,1]\n",
    "probs = [1-prob_bnm, prob_bnm]\n",
    "\n",
    "y_rand = np.random.choice(outputs, len(y_test), p=probs)\n",
    "print(1 - np.count_nonzero(y_test - y_rand)/len(y_test))"
   ]
  }
 ],
 "metadata": {
  "kernelspec": {
   "display_name": "base",
   "language": "python",
   "name": "python3"
  },
  "language_info": {
   "codemirror_mode": {
    "name": "ipython",
    "version": 3
   },
   "file_extension": ".py",
   "mimetype": "text/x-python",
   "name": "python",
   "nbconvert_exporter": "python",
   "pygments_lexer": "ipython3",
   "version": "3.9.12"
  },
  "orig_nbformat": 4
 },
 "nbformat": 4,
 "nbformat_minor": 2
}
