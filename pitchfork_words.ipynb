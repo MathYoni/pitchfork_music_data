{
 "cells": [
  {
   "cell_type": "code",
   "execution_count": 1,
   "metadata": {},
   "outputs": [],
   "source": [
    "import pandas as pd \n",
    "import sklearn\n",
    "import numpy as np\n",
    "import matplotlib.pyplot as plt\n",
    "import statistics \n",
    "from sklearn.linear_model import LinearRegression\n",
    "from sklearn.tree import DecisionTreeClassifier\n",
    "import re"
   ]
  },
  {
   "cell_type": "code",
   "execution_count": 16,
   "metadata": {},
   "outputs": [
    {
     "name": "stdout",
     "output_type": "stream",
     "text": [
      "(18391, 2)\n"
     ]
    }
   ],
   "source": [
    "#creates X -- the array of reviews, and y -- the score associated to each review\n",
    "df_reviews = pd.read_csv(\"reviews.csv\")\n",
    "df_reviews.dropna(inplace=True)\n",
    "\n",
    "X = np.array(df_reviews.drop([\"reviewid\", \"pub_year\", \"score\"], axis = 1))\n",
    "y = np.array(df_reviews[\"score\"])\n",
    "\n",
    "#nonempties = []\n",
    "#for i in range(X.shape[0]):\n",
    "#    if isinstance(X[i][0], str) and len(X[i][0]) > 300:\n",
    "#        nonempties.append(i)\n",
    "\n",
    "#X = np.array([X[i] for i in nonempties])\n",
    "#y = np.array([y[i] for i in nonempties])\n",
    "\n",
    "print(X.shape)\n",
    "\n",
    "#Spreads out the scores between 5 and 8.5\n",
    "y_scaled = np.copy(y)\n",
    "for i in range(len(y_scaled)):\n",
    "    if 5 <= y[i] <= 8.5:\n",
    "        y_scaled[i] = 6 + (4 * (y[i] - 6))\n",
    "    elif 8 < y[i]:\n",
    "        y_scaled[i] = 14 + (y[i] - 8)\n"
   ]
  },
  {
   "cell_type": "code",
   "execution_count": 7,
   "metadata": {},
   "outputs": [
    {
     "name": "stdout",
     "output_type": "stream",
     "text": [
      "ian cohen\n",
      "brian howe\n",
      "marc hogan\n",
      "stuart berman\n",
      "mark richardson\n",
      "stephen m. deusner\n",
      "joe tangari\n"
     ]
    }
   ],
   "source": [
    "#A count of number of reviews per reviewer.\n",
    "review_counts = {}\n",
    "for i in X:\n",
    "    if i[0] not in review_counts:\n",
    "        review_counts[i[0]] = 1\n",
    "    else:\n",
    "        review_counts[i[0]] += 1\n",
    "\n",
    "for i in review_counts:\n",
    "    if review_counts[i] > 400:\n",
    "        print(i)\n",
    "\n",
    "#Reviewed more than 400 albums\n",
    "#ian cohen\n",
    "#brian howe\n",
    "#marc hogan\n",
    "#stuart berman\n",
    "#mark richardson\n",
    "#stephen m. deusner\n",
    "#joe tangari"
   ]
  },
  {
   "cell_type": "code",
   "execution_count": 4,
   "metadata": {},
   "outputs": [],
   "source": [
    "#binary search function, to be used in next cell for generating an alphabetized list of unique words \n",
    "#showing up in all reviews\n",
    "\n",
    "def binary_search(arr, low, high, x):\n",
    " \n",
    "    # Check base case\n",
    "    if high >= low:\n",
    " \n",
    "        mid = (high + low) // 2\n",
    " \n",
    "        # If element is present at the middle itself\n",
    "        if arr[mid] == x:\n",
    "            return mid, True\n",
    " \n",
    "        # If element is smaller than mid, then it can only\n",
    "        # be present in left subarray\n",
    "        elif arr[mid] > x:\n",
    "            return binary_search(arr, low, mid - 1, x)\n",
    " \n",
    "        # Else the element can only be present in right subarray\n",
    "        else:\n",
    "            return binary_search(arr, mid + 1, high, x)\n",
    " \n",
    "    else:\n",
    "        # Element is not present in the array\n",
    "        return low, False"
   ]
  },
  {
   "cell_type": "code",
   "execution_count": 12,
   "metadata": {},
   "outputs": [],
   "source": [
    "#Generates array of words and dictionary of word counts. Takes a couple minutes to run.\n",
    "\n",
    "words = np.array(200000*[''], dtype=object)\n",
    "wordcounts = {}\n",
    "count = 0\n",
    "for i in X:\n",
    "    if i[0] == 'stephen m. deusner':\n",
    "        clean = re.sub(r\"[,.;@#?!&$]+\\ *\", \" \", i[1])\n",
    "        review = clean.split()\n",
    "        for j in range(len(review)):\n",
    "            word = review[j]\n",
    "            if word.isalpha():\n",
    "                word = word.lower()\n",
    "                if words[count - 1] < word:\n",
    "                    words[count] = word\n",
    "                    wordcounts[word] = 1\n",
    "                    count += 1\n",
    "                else:\n",
    "                    index, found = binary_search(words, 0, count, word)\n",
    "                    if found == True:\n",
    "                        wordcounts[word] += 1\n",
    "                    else:\n",
    "                        words[index+1:count+1] = words[index:count]\n",
    "                        words[index] = word\n",
    "                        wordcounts[word] = 1\n",
    "                        count += 1\n"
   ]
  },
  {
   "cell_type": "code",
   "execution_count": 24,
   "metadata": {},
   "outputs": [],
   "source": [
    "#Produces a csv file of words appearing more than 1000 times.\n",
    "\n",
    "common_words = []\n",
    "for i in wordcounts.keys():\n",
    "    if wordcounts[i] > 300:\n",
    "        common_words.append([i, wordcounts[i]])\n",
    "\n",
    "def takeSecond(elem):\n",
    "    return elem[1]\n",
    "\n",
    "sorted_words = sorted(common_words, key=takeSecond, reverse=True)\n",
    "\n",
    "common_frame = pd.DataFrame(np.array(sorted_words), columns=['word', 'frequency'])\n",
    "common_frame.to_csv('stephen m. deusner.csv',index=False)"
   ]
  },
  {
   "cell_type": "code",
   "execution_count": 51,
   "metadata": {},
   "outputs": [],
   "source": [
    "#Not finding any significant correlations\n",
    "\n",
    "contractions = [\"no\", \"not\", \"aren't\", \"can't\", \"couldn't\", \"didn't\", \"hasn't\", \"isn't\", \"mustn't\", \"shouldn't\", \"wasn't\", \"weren't\", \"won't\", \"wouldn't\"]\n",
    "\n",
    "#good = [\"good\", \"nice\", \"solid\", \"warm\", \"catchy\", \"appeal\", \"interesting\", \"aesthetic\", \"cool\", \"bright\", \"rich\", \"creative\", \"complex\", \"dynamic\", \"fresh\"]\n",
    "#great = [\"great\", \"better\", \"impressive\", \"compelling\", \"powerful\", \"memorable\"]\n",
    "#best = [\"best\", \"perfect\", \"beautiful\", \"perfectly\", \"greatest\", \"excellent\", \"epic\", \"favorite\", \"gorgeous\"]\n",
    "#bad = [\"bad\", \"strange\", \"lack\", \"difficult\", \"weird\", \"drone\", \"odd\", \"unfortunately\", \"drones\"]\n",
    "\n",
    "good = [\"like\"]\n",
    "great = [\"more\"]\n",
    "best = [\"not\", \"no\"]\n",
    "bad = [\"i\", \"my\", \"me\"]\n",
    "\n",
    "X_steph = np.array([[X[i][1]] for i in range(X.shape[0]) if X[i][0] == 'stephen m. deusner'])\n",
    "y_steph = np.array([y[i] for i in range(X.shape[0]) if X[i][0] == 'stephen m. deusner'])\n",
    "goodnesses = np.zeros((725,4))\n",
    "\n",
    "for i in range(X_steph.shape[0]):\n",
    "    clean = re.sub(r\"[,.;@#?!&$]+\\ *\", \" \", X_steph[i][0])\n",
    "    review = clean.split()\n",
    "    for j in range(len(review)):\n",
    "        word = review[j]\n",
    "        if word.isalpha():\n",
    "            word = word.lower()\n",
    "            if word in good:\n",
    "                goodnesses[i][0] += 1\n",
    "            elif word in great:\n",
    "                goodnesses[i][1] += 1\n",
    "            elif word in contractions:\n",
    "                goodnesses[i][2] += 1\n",
    "            elif word in bad:\n",
    "                goodnesses[i][3] += 1\n",
    "    goodnesses[i, :] /= len(review)\n",
    " "
   ]
  },
  {
   "cell_type": "code",
   "execution_count": 52,
   "metadata": {},
   "outputs": [
    {
     "name": "stdout",
     "output_type": "stream",
     "text": [
      "The r-squared value is 0.045497196497228165\n"
     ]
    },
    {
     "data": {
      "text/plain": [
       "array([-52.48602822, -21.65621467, -49.56484165,  26.13559128])"
      ]
     },
     "execution_count": 52,
     "metadata": {},
     "output_type": "execute_result"
    }
   ],
   "source": [
    "reg = LinearRegression().fit(goodnesses,y_steph)\n",
    "\n",
    "print(\"The r-squared value is\", reg.score(goodnesses,y_steph))\n",
    "reg.coef_"
   ]
  },
  {
   "cell_type": "code",
   "execution_count": null,
   "metadata": {},
   "outputs": [],
   "source": [
    "#Determine whether there is a correlation between review length and the score given.\n",
    "\n",
    "X_len = np.copy(X)\n",
    "\n",
    "#cleans up empty slots and replaces a review by its length\n",
    "for i in range(len(X_len)):\n",
    "    X_len[i][0] = len(X_len[i][0])\n",
    "\n",
    "#performs and plots a linear regression\n",
    "reg = LinearRegression().fit(X_len,y)\n",
    "\n",
    "plt.rcParams[\"figure.figsize\"] = [9.50, 7.50]\n",
    "plt.rcParams[\"figure.autolayout\"] = True\n",
    "print(\"The r-squared value is\", reg.score(X_len,y))\n",
    "\n",
    "plt.plot(X_len, y, 'r*')\n",
    "plt.plot(X_len, reg.coef_ * X_len + reg.intercept_, linestyle='solid')\n",
    "plt.show()"
   ]
  }
 ],
 "metadata": {
  "kernelspec": {
   "display_name": "Python 3",
   "language": "python",
   "name": "python3"
  },
  "language_info": {
   "codemirror_mode": {
    "name": "ipython",
    "version": 3
   },
   "file_extension": ".py",
   "mimetype": "text/x-python",
   "name": "python",
   "nbconvert_exporter": "python",
   "pygments_lexer": "ipython3",
   "version": "3.9.12"
  },
  "orig_nbformat": 4
 },
 "nbformat": 4,
 "nbformat_minor": 2
}
